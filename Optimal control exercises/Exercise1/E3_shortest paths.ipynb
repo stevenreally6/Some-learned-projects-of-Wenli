{
 "cells": [
  {
   "cell_type": "code",
   "execution_count": 2,
   "metadata": {},
   "outputs": [],
   "source": [
    "# %matplotlib notebook\n",
    "\n",
    "import numpy as np\n",
    "import matplotlib.pyplot as plt\n",
    "import matplotlib as mp\n",
    "\n",
    "np.set_printoptions(precision=5,linewidth=120,suppress=True)\n",
    "\n",
    "# the bisect module enables to easily keep an ordered list\n",
    "# cf. https://docs.python.org/3.7/library/bisect.html\n",
    "# useful for maintaining the OPEN list\n",
    "import bisect"
   ]
  },
  {
   "cell_type": "code",
   "execution_count": 28,
   "metadata": {},
   "outputs": [],
   "source": [
    "def breadthFirstSearch(graph, start_node, end_node, cost):\n",
    "    \"\"\"\n",
    "    TO BE COMPLETED\n",
    "    this function gets a graph, a start_node, end_node and cost list as entry\n",
    "    and returns a path (list of nodes) as output\n",
    "    it return an empty list in case of failure\n",
    "    \"\"\"\n",
    "        ## Step 1: initialization\n",
    "    d = [float(\"inf\") for n in graph]\n",
    "    d[start_node] = 0   \n",
    "    PARENT = [None for n in graph]\n",
    "    UPPER = float(\"inf\")\n",
    "    OPEN = [start_node]\n",
    "    ## Calculate how many nodes visited \n",
    "    visited = 0\n",
    "    while len(OPEN) > 0:\n",
    "        ## Step 2: Remove a node i from OPEN and set CURRENT = i\n",
    "        CURRENT = OPEN[0]\n",
    "        OPEN = OPEN[1:]\n",
    "        visited += 1\n",
    "        ## Step 3: For each child j of CURRENT, if di + aij < min{dj , UPPER}:\n",
    "        for child in graph[CURRENT]:\n",
    "            if d[CURRENT] + cost[child, CURRENT] < min(d[child], UPPER):\n",
    "            ## 3a: Set dj = di + aij \n",
    "                d[child] = d[CURRENT] + cost[child, CURRENT]\n",
    "            ## 3b: Set PARENT[i] = j\n",
    "                PARENT[child] = CURRENT\n",
    "            ## 3c:\n",
    "                ## If j = T, set UPPER to the new value dT\n",
    "                if child == end_node:\n",
    "                    UPPER = d[child]\n",
    "                ## If j != T, place j in OPEN if it is not already in OPEN\n",
    "                elif child not in OPEN:\n",
    "                ## Breadth first research, add j to the end of the list, search following the order of computation.\n",
    "                    OPEN = OPEN + [child]\n",
    "    print(f\"{visited} nodes are visited\")\n",
    "    ## Step 4: if dT = ∞ there is not path from S to T\n",
    "    path = []\n",
    "    if d[end_node] == float(\"inf\"):\n",
    "        return path\n",
    "    ## dT is the length of the shortest path and the optimal path can be read backwards following the parents\n",
    "    ## Repeat the loop until open is []\n",
    "    node = end_node\n",
    "    path.append(node)\n",
    "    while PARENT[node] is not None:\n",
    "        node = PARENT[node]\n",
    "        path = [node] + path\n",
    "    return path\n",
    "\n",
    "def depthFirstSearch(graph, start_node, end_node, cost):\n",
    "    \"\"\"\n",
    "    TO BE COMPLETED\n",
    "    this function gets a graph, a start_node, end_node and cost list as entry\n",
    "    and returns a path (list of nodes) as output\n",
    "    it return an empty list in case of failure\n",
    "    \"\"\"\n",
    " ## Initialization\n",
    "    d = [float(\"inf\") for n in graph]\n",
    "    d[start_node] = 0   \n",
    "    PARENT = [None for n in graph]\n",
    "    UPPER = float(\"inf\")\n",
    "    OPEN = [start_node]\n",
    "    ## Calculate how many nodes visited \n",
    "    visited = 0\n",
    "    while len(OPEN) > 0:\n",
    "        ## Step 2: Remove a node i from OPEN and set CURRENT = i\n",
    "        CURRENT = OPEN[0]\n",
    "        OPEN = OPEN[1:]\n",
    "        visited += 1 \n",
    "        ## Step 3: For each child j of CURRENT, if di + aij < min{dj , UPPER}:\n",
    "        for child in graph[CURRENT]:\n",
    "            if d[CURRENT] + cost[child, CURRENT] < min(d[child], UPPER):\n",
    "            ## 3a: Set dj = di + aij \n",
    "                d[child] = d[CURRENT] + cost[child, CURRENT]\n",
    "            ## 3b: Set PARENT[i] = j\n",
    "                PARENT[child] = CURRENT\n",
    "            ## 3c:\n",
    "                ## If j = T, set UPPER to the new value dT\n",
    "                if child == end_node:\n",
    "                    UPPER = d[child]\n",
    "                ## If j != T, place j in OPEN if it is not already in OPEN\n",
    "                elif child not in OPEN:\n",
    "                ## depth first research, add j to the start of the list, search from the last computation.    \n",
    "                    OPEN = [child] + OPEN\n",
    "    print(f\"{visited} nodes are visited\")\n",
    "    ## Step 4: if dT = ∞ there is not path from S to T\n",
    "    path = []\n",
    "    if d[end_node] == float(\"inf\"):\n",
    "        return path\n",
    "    ## dT is the length of the shortest path and the optimal path can be read backwards following the parents\n",
    "    ## Repeat the loop until open is []\n",
    "    node = end_node\n",
    "    path.append(node)\n",
    "    while PARENT[node] is not None:\n",
    "        node = PARENT[node]\n",
    "        path = [node] + path\n",
    "    return path\n",
    "\n",
    "def AStar(graph, start_node, end_node, cost, heuristic):\n",
    "    \"\"\"\n",
    "    TO BE COMPLETED\n",
    "    this function gets a graph, a start_node, end_node and cost list as entry\n",
    "    and returns a path (list of nodes) as output\n",
    "    it return an empty list in case of failure\n",
    "    \"\"\"\n",
    "    ## step 1: initialization\n",
    "    d = [float(\"inf\") for n in graph]\n",
    "    d[start_node] = 0\n",
    "    PARENT = [None for n in graph]\n",
    "    OPEN = [start_node]\n",
    "    ## initial heuristic hi;j\n",
    "    VALUE = [0]\n",
    "    CLOSED = [False for n in graph]\n",
    "    ## Calculate how many nodes visited \n",
    "    visited = 0\n",
    "    while len(OPEN) > 0:\n",
    "        ## Step 2: Remove the first node i from OPEN, set CURRENT = i and add i to CLOSED\n",
    "        CURRENT = OPEN[0]\n",
    "        OPEN = OPEN[1:]\n",
    "        VALUE = VALUE[1:]\n",
    "        CLOSED[CURRENT] = True\n",
    "        visited += 1\n",
    "        ## Step 3: If CURRENT=T success - the algorithm returns\n",
    "        if CURRENT == end_node:\n",
    "            break\n",
    "        ## Step 4: For each child j of CURRENT not in CLOSED, if di + aij < dj then\n",
    "        for child in graph[CURRENT]:\n",
    "            if (d[CURRENT] + cost[child, CURRENT] < d[child]) and not CLOSED[child]:\n",
    "                ##4a: dj = di + aij\n",
    "                d[child] = d[CURRENT] + cost[child, CURRENT]\n",
    "                ##4b: Set P ARENT[j] = i\n",
    "                PARENT[child] = CURRENT\n",
    "                ##4c: Add j in the sorted list OPEN according to vj = dj + hj\n",
    "                h = 0\n",
    "                value = d[child] + h \n",
    "                idx = bisect.bisect_left(VALUE, value)\n",
    "                OPEN = OPEN[:idx] + [child] + OPEN[idx:]\n",
    "                VALUE =  VALUE[:idx] + [value] + VALUE[idx:]\n",
    "    print(f\"{visited} nodes are visited\")\n",
    "    ## Step 5: if dT = ∞ there is not path from S to T\n",
    "    path = []\n",
    "    if d[end_node] == float(\"inf\"):\n",
    "        return path\n",
    "    ## dT is the length of the shortest path and the optimal path can be read backwards following the parents\n",
    "    ## Repeat the loop until open is []\n",
    "    node = end_node\n",
    "    path.append(node)\n",
    "    while PARENT[node] is not None:\n",
    "        node = PARENT[node]\n",
    "        path = [node] + path\n",
    "    return path\n",
    "\n",
    "def AStar2(graph, start_node, end_node, cost, N):\n",
    "    \"\"\"\n",
    "    TO BE COMPLETED\n",
    "    this function gets a graph, a start_node, end_node and cost list as entry\n",
    "    and returns a path (list of nodes) as output\n",
    "    it return an empty list in case of failure\n",
    "    \"\"\"\n",
    "    ## step 1: initialization\n",
    "    d = [float(\"inf\") for n in graph]\n",
    "    d[start_node] = 0\n",
    "    PARENT = [None for n in graph]\n",
    "    OPEN = [start_node]\n",
    "    ## initial heuristic hi;j\n",
    "    x_end , y_end = convert_to_matrixindex(end_node, N)\n",
    "    x_start , y_start = convert_to_matrixindex(start_node, N)\n",
    "    VALUE = [(abs(x_end-x_start) + abs(x_end-x_start))]\n",
    "    CLOSED = [False for n in graph]   \n",
    "    ## Calculate how many nodes visited\n",
    "    visited = 0\n",
    "    while len(OPEN) > 0:\n",
    "        ## Step 2: Remove the first node i from OPEN, set CURRENT = i and add i to CLOSED\n",
    "        CURRENT = OPEN[0]\n",
    "        OPEN = OPEN[1:]\n",
    "        VALUE = VALUE[1:]\n",
    "        CLOSED[CURRENT] = True\n",
    "        visited += 1\n",
    "        ## Step 3: If CURRENT=T success - the algorithm returns       \n",
    "        if CURRENT == end_node:\n",
    "            break\n",
    "        ## Step 4: For each child j of CURRENT not in CLOSED, if di + aij < dj then\n",
    "        for child in graph[CURRENT]:\n",
    "            if (d[CURRENT] + cost[child, CURRENT] < d[child]) and not CLOSED[child]:\n",
    "                ##4a: dj = di + aij\n",
    "                d[child] = d[CURRENT] + cost[child, CURRENT]\n",
    "                ##4b: Set P ARENT[j] = i\n",
    "                PARENT[child] = CURRENT\n",
    "                ##4c: Add j in the sorted list OPEN according to vj = dj + hj\n",
    "                x_child , y_child =  convert_to_matrixindex(child, N)\n",
    "                h = abs(x_end-x_child) + abs(x_end-x_child)\n",
    "                value = d[child] + h \n",
    "                idx = bisect.bisect_left(VALUE, value)\n",
    "                OPEN = OPEN[:idx] + [child] + OPEN[idx:]\n",
    "                VALUE =  VALUE[:idx] + [value] + VALUE[idx:]\n",
    "    print(f\"{visited} nodes are visited\")\n",
    "    ## Step 5: if dT = ∞ there is not path from S to T\n",
    "    path = []\n",
    "    if d[end_node] == float(\"inf\"):\n",
    "        return path    \n",
    "    ## dT is the length of the shortest path and the optimal path can be read backwards following the parents\n",
    "    ## Repeat the loop until open is []\n",
    "    node = end_node\n",
    "    path.append(node)\n",
    "    while PARENT[node] is not None:\n",
    "        node = PARENT[node]\n",
    "        path = [node] + path\n",
    "    return path"
   ]
  },
  {
   "cell_type": "code",
   "execution_count": 4,
   "metadata": {},
   "outputs": [],
   "source": [
    "def display_result(world_mat, path):\n",
    "    \"\"\"\n",
    "    This function displays a maze described in world_mat and a path inside the maze\n",
    "    world_mat: a NxN matrix that contains the maze (0 for free path, -10 for obstacle)\n",
    "    path: a list of elements numbered as the graph (i.e. from 0 to N**2-1)\n",
    "    \"\"\"\n",
    "    N = world_mat.shape[0]\n",
    "    display_mat = world_mat.copy()\n",
    "    for el in path:\n",
    "        display_mat[convert_to_matrixindex(el,N)] = 5\n",
    "    plt.matshow(display_mat, cmap='Greys')\n",
    "    \n",
    "def convert_to_listindex(i,j,N):\n",
    "    \"\"\"\n",
    "    This function converts a (i,j) matrix entry index to a list index for matrix of size N\n",
    "    \"\"\"\n",
    "    return N*i+j\n",
    "\n",
    "def convert_to_matrixindex(a,N):\n",
    "    \"\"\"\n",
    "    This function converts a list entry a into a (i,j) matrix entry for matrix of size N\n",
    "    \"\"\"\n",
    "    i = int(a/N) # the result of integer division\n",
    "    j = int(a%N) # the  remainder of the division\n",
    "    return i,j\n",
    "\n",
    "def create_graph(world_mat):\n",
    "    \"\"\"\n",
    "    This functions takes a NxN matrix in entry and creates a graph and a map of costs\n",
    "    Since we use lists, for a world_mat of size NxN, we associate to the entry [i,j] of world_map\n",
    "    the index a=N*i + j of the list\n",
    "    output:\n",
    "        graph: a list of neighbors  (indexed as explained above)\n",
    "        cost: a N**2 x  N**2 array. Each entry cost[i,j] contains the cost of transitioning from node i to node j\n",
    "            it is infinite if there is no edge from i to j\n",
    "    \"\"\"\n",
    "    N = world_mat.shape[0]\n",
    "    graph = []\n",
    "    for i in range(N):\n",
    "        for j in range(N):\n",
    "            neigh = []\n",
    "            if(i!=N-1):\n",
    "                if(world_mat[i+1,j]==0):\n",
    "                    neigh.append(N*(i+1)+j)\n",
    "            if(i!=0):\n",
    "                if(world_mat[i-1,j]==0):\n",
    "                    neigh.append(N*(i-1)+j)\n",
    "            if(j!=N-1):\n",
    "                if(world_mat[i,j+1]==0):\n",
    "                    neigh.append(N*i+j+1)\n",
    "            if(j!=0):\n",
    "                if(world_mat[i,j-1]==0):\n",
    "                    neigh.append(N*i+j-1)\n",
    "            graph.append(neigh)\n",
    "    \n",
    "    cost = np.ones([N*N,N*N]) * np.inf\n",
    "    \n",
    "    for i in range(N*N):\n",
    "        for j in graph[i]:\n",
    "            cost[i,j] = 1\n",
    "    \n",
    "    return graph, cost"
   ]
  },
  {
   "cell_type": "code",
   "execution_count": 5,
   "metadata": {},
   "outputs": [
    {
     "name": "stdout",
     "output_type": "stream",
     "text": [
      "[[ 0.  0.  0.  0. 10.]\n",
      " [ 0. 10. 10.  0.  0.]\n",
      " [ 0. 10.  0.  0.  0.]\n",
      " [ 0.  0.  0. 10.  0.]\n",
      " [ 0. 10. 10.  0.  0.]]\n"
     ]
    },
    {
     "data": {
      "image/png": "[encoded data removed]",
      "text/plain": [
       "<Figure size 288x288 with 1 Axes>"
      ]
     },
     "metadata": {
      "needs_background": "light"
     },
     "output_type": "display_data"
    }
   ],
   "source": [
    "# let's create a map corresponding to the robot path planning example of lecture 3\n",
    "# it is a 5x5 grid\n",
    "world_map = np.zeros([5,5])\n",
    "# and it contains obstacles which we mark as non 0\n",
    "world_map[0,4] = 10\n",
    "world_map[1,1:3] = 10\n",
    "world_map[2,1] = 10\n",
    "world_map[3,3] = 10\n",
    "world_map[4,1:3] = 10\n",
    "\n",
    "# we can print the matrix\n",
    "print(world_map)\n",
    "\n",
    "# we can now display the result\n",
    "display_result(world_map, [])"
   ]
  },
  {
   "cell_type": "code",
   "execution_count": 6,
   "metadata": {
    "scrolled": false
   },
   "outputs": [
    {
     "name": "stdout",
     "output_type": "stream",
     "text": [
      "(0, 0)\n",
      "(0, 1)\n",
      "(0, 2)\n",
      "(0, 3)\n",
      "(1, 3)\n",
      "(1, 4)\n",
      "(2, 4)\n",
      "(3, 4)\n",
      "(4, 4)\n"
     ]
    },
    {
     "data": {
      "image/png": "[encoded data removed]",
      "text/plain": [
       "<Figure size 288x288 with 1 Axes>"
      ]
     },
     "metadata": {
      "needs_background": "light"
     },
     "output_type": "display_data"
    }
   ],
   "source": [
    "# let's assume we have a path from (0,0) to (4,4) that does (in linear index)\n",
    "path = [0,1,2,3,8,9,14,19,24]\n",
    "\n",
    "# we print the equivalent in matrix entries\n",
    "for a in path:\n",
    "    print(convert_to_matrixindex(a, 5))\n",
    "\n",
    "# and we display it on the world grid (shown in grey)\n",
    "display_result(world_map, path)\n"
   ]
  },
  {
   "cell_type": "code",
   "execution_count": 7,
   "metadata": {
    "scrolled": true
   },
   "outputs": [
    {
     "name": "stdout",
     "output_type": "stream",
     "text": [
      "Neighbors of entry [0,0]\n",
      "in linear indexes: 5 which corresponds to the matrix entry: (1, 0)\n",
      "in linear indexes: 1 which corresponds to the matrix entry: (0, 1)\n",
      "\n",
      "\n",
      "Neighbors of entry [2,3]\n",
      "in linear indexes: 8 which corresponds to the matrix entry: (1, 3)\n",
      "in linear indexes: 14 which corresponds to the matrix entry: (2, 4)\n",
      "in linear indexes: 12 which corresponds to the matrix entry: (2, 2)\n"
     ]
    }
   ],
   "source": [
    "# we can also create the associated graph and costs\n",
    "graph, cost = create_graph(world_map)\n",
    "\n",
    "# the neighbors of entry the cell [0,0] are\n",
    "print('Neighbors of entry [0,0]')\n",
    "a = convert_to_listindex(0,0,5)\n",
    "neighborhs = graph[a]\n",
    "for n in neighborhs:\n",
    "    print('in linear indexes: ' + str(n) + ' which corresponds to the matrix entry: ' + str(convert_to_matrixindex(n,5)))\n",
    "    \n",
    "print('\\n\\nNeighbors of entry [2,3]')\n",
    "a = convert_to_listindex(2,3,5)\n",
    "neighborhs = graph[a]\n",
    "for n in neighborhs:\n",
    "    print('in linear indexes: ' + str(n) + ' which corresponds to the matrix entry: ' + str(convert_to_matrixindex(n,5)))"
   ]
  },
  {
   "cell_type": "code",
   "execution_count": 9,
   "metadata": {
    "scrolled": true
   },
   "outputs": [
    {
     "data": {
      "image/png": "[encoded data removed]",
      "text/plain": [
       "<Figure size 288x288 with 1 Axes>"
      ]
     },
     "metadata": {
      "needs_background": "light"
     },
     "output_type": "display_data"
    },
    {
     "data": {
      "image/png": "[encoded data removed]",
      "text/plain": [
       "<Figure size 288x288 with 1 Axes>"
      ]
     },
     "metadata": {
      "needs_background": "light"
     },
     "output_type": "display_data"
    },
    {
     "data": {
      "image/png": "[encoded data removed]",
      "text/plain": [
       "<Figure size 288x288 with 1 Axes>"
      ]
     },
     "metadata": {
      "needs_background": "light"
     },
     "output_type": "display_data"
    }
   ],
   "source": [
    "# here we load the 3 mazes and display them\n",
    "maze1 = np.load('maze1.npy')\n",
    "display_result(maze1, [])\n",
    "\n",
    "maze2 = np.load('maze2.npy')\n",
    "display_result(maze2, [])\n",
    "\n",
    "maze3 = np.load('maze3.npy')\n",
    "display_result(maze3, [])\n"
   ]
  },
  {
   "cell_type": "markdown",
   "metadata": {},
   "source": []
  },
  {
   "cell_type": "markdown",
   "metadata": {},
   "source": [
    "# Depth First Searching for Question （a）"
   ]
  },
  {
   "cell_type": "markdown",
   "metadata": {},
   "source": [
    "Maze 0"
   ]
  },
  {
   "cell_type": "code",
   "execution_count": 22,
   "metadata": {},
   "outputs": [
    {
     "name": "stdout",
     "output_type": "stream",
     "text": [
      "17 nodes are visited\n",
      "[24, 19, 14, 13, 8, 3, 2, 1, 0]\n",
      "9\n"
     ]
    },
    {
     "data": {
      "image/png": "[encoded data removed]",
      "text/plain": [
       "<Figure size 288x288 with 1 Axes>"
      ]
     },
     "metadata": {
      "needs_background": "light"
     },
     "output_type": "display_data"
    }
   ],
   "source": [
    "N=5\n",
    "start_node = convert_to_listindex(0,0,N)\n",
    "end_node = convert_to_listindex(N-1,N-1,N)\n",
    "graph, cost = create_graph(world_map)\n",
    "path = depthFirstSearch(graph, end_node, start_node, cost)\n",
    "print(path)\n",
    "print(len(path))\n",
    "display_result(world_map, path)"
   ]
  },
  {
   "cell_type": "markdown",
   "metadata": {},
   "source": [
    "Maze 1"
   ]
  },
  {
   "cell_type": "code",
   "execution_count": 23,
   "metadata": {},
   "outputs": [
    {
     "name": "stdout",
     "output_type": "stream",
     "text": [
      "223241 nodes are visited\n",
      "99\n"
     ]
    },
    {
     "data": {
      "image/png": "[encoded data removed]",
      "text/plain": [
       "<Figure size 288x288 with 1 Axes>"
      ]
     },
     "metadata": {
      "needs_background": "light"
     },
     "output_type": "display_data"
    }
   ],
   "source": [
    "maze = maze1\n",
    "N = maze.shape[0]\n",
    "start_node = convert_to_listindex(0,0,N)\n",
    "end_node = convert_to_listindex(N-1,N-1,N)\n",
    "graph, cost = create_graph(maze)\n",
    "path = depthFirstSearch(graph, start_node, end_node, cost)\n",
    "print(len(path))\n",
    "# display it on the world grid (shown in grey)\n",
    "display_result(maze, path)"
   ]
  },
  {
   "cell_type": "markdown",
   "metadata": {},
   "source": [
    "Maze 2"
   ]
  },
  {
   "cell_type": "code",
   "execution_count": 24,
   "metadata": {},
   "outputs": [
    {
     "name": "stdout",
     "output_type": "stream",
     "text": [
      "176721 nodes are visited\n",
      "131\n"
     ]
    },
    {
     "data": {
      "image/png": "[encoded data removed]",
      "text/plain": [
       "<Figure size 288x288 with 1 Axes>"
      ]
     },
     "metadata": {
      "needs_background": "light"
     },
     "output_type": "display_data"
    }
   ],
   "source": [
    "maze = maze2\n",
    "N = maze.shape[0]\n",
    "start_node = convert_to_listindex(0,0,N)\n",
    "end_node = convert_to_listindex(N-1,N-1,N)\n",
    "graph, cost = create_graph(maze)\n",
    "path = depthFirstSearch(graph, start_node, end_node, cost)\n",
    "print(len(path))\n",
    "# display it on the world grid (shown in grey)\n",
    "display_result(maze, path)"
   ]
  },
  {
   "cell_type": "markdown",
   "metadata": {},
   "source": [
    "Maze 3"
   ]
  },
  {
   "cell_type": "code",
   "execution_count": 25,
   "metadata": {},
   "outputs": [
    {
     "name": "stdout",
     "output_type": "stream",
     "text": [
      "332734 nodes are visited\n",
      "141\n"
     ]
    },
    {
     "data": {
      "image/png": "[encoded data removed]",
      "text/plain": [
       "<Figure size 288x288 with 1 Axes>"
      ]
     },
     "metadata": {
      "needs_background": "light"
     },
     "output_type": "display_data"
    }
   ],
   "source": [
    "maze = maze3\n",
    "N = maze.shape[0]\n",
    "start_node = convert_to_listindex(0,0,N)\n",
    "end_node = convert_to_listindex(N-1,N-1,N)\n",
    "graph, cost = create_graph(maze)\n",
    "path = depthFirstSearch(graph, start_node, end_node, cost)\n",
    "print(len(path))\n",
    "# display it on the world grid (shown in grey)\n",
    "display_result(maze, path)"
   ]
  },
  {
   "cell_type": "markdown",
   "metadata": {},
   "source": [
    "# Bread First Searching for Question （b）"
   ]
  },
  {
   "cell_type": "markdown",
   "metadata": {},
   "source": [
    "Maze0"
   ]
  },
  {
   "cell_type": "code",
   "execution_count": 17,
   "metadata": {},
   "outputs": [
    {
     "name": "stdout",
     "output_type": "stream",
     "text": [
      "16 nodes are visited\n",
      "9\n"
     ]
    },
    {
     "data": {
      "image/png": "[encoded data removed]",
      "text/plain": [
       "<Figure size 288x288 with 1 Axes>"
      ]
     },
     "metadata": {
      "needs_background": "light"
     },
     "output_type": "display_data"
    }
   ],
   "source": [
    "N=5\n",
    "start_node = convert_to_listindex(0,0,N)\n",
    "end_node = convert_to_listindex(N-1,N-1,N)\n",
    "graph, cost = create_graph(world_map)\n",
    "path = breadthFirstSearch(graph, start_node, end_node, cost)\n",
    "print(len(path))\n",
    "# display it on the world grid (shown in grey)\n",
    "display_result(world_map, path)"
   ]
  },
  {
   "cell_type": "markdown",
   "metadata": {},
   "source": [
    "Maze 1"
   ]
  },
  {
   "cell_type": "code",
   "execution_count": 18,
   "metadata": {},
   "outputs": [
    {
     "name": "stdout",
     "output_type": "stream",
     "text": [
      "2024 nodes are visited\n",
      "99\n"
     ]
    },
    {
     "data": {
      "image/png": "[encoded data removed]",
      "text/plain": [
       "<Figure size 288x288 with 1 Axes>"
      ]
     },
     "metadata": {
      "needs_background": "light"
     },
     "output_type": "display_data"
    }
   ],
   "source": [
    "maze = maze1\n",
    "N = maze.shape[0]\n",
    "start_node = convert_to_listindex(0,0,N)\n",
    "end_node = convert_to_listindex(N-1,N-1,N)\n",
    "graph, cost = create_graph(maze)\n",
    "path = breadthFirstSearch(graph, start_node, end_node, cost)\n",
    "print(len(path))\n",
    "# display it on the world grid (shown in grey)\n",
    "display_result(maze, path)"
   ]
  },
  {
   "cell_type": "markdown",
   "metadata": {},
   "source": [
    "Maze 2"
   ]
  },
  {
   "cell_type": "code",
   "execution_count": 20,
   "metadata": {},
   "outputs": [
    {
     "name": "stdout",
     "output_type": "stream",
     "text": [
      "2172 nodes are visited\n",
      "131\n"
     ]
    },
    {
     "data": {
      "image/png": "[encoded data removed]",
      "text/plain": [
       "<Figure size 288x288 with 1 Axes>"
      ]
     },
     "metadata": {
      "needs_background": "light"
     },
     "output_type": "display_data"
    }
   ],
   "source": [
    "maze = maze2\n",
    "N = maze.shape[0]\n",
    "start_node = convert_to_listindex(0,0,N)\n",
    "end_node = convert_to_listindex(N-1,N-1,N)\n",
    "graph, cost = create_graph(maze)\n",
    "path = breadthFirstSearch(graph, start_node, end_node, cost)\n",
    "print(len(path))\n",
    "# display it on the world grid (shown in grey)\n",
    "display_result(maze, path)"
   ]
  },
  {
   "cell_type": "markdown",
   "metadata": {},
   "source": [
    "Maze 3"
   ]
  },
  {
   "cell_type": "code",
   "execution_count": 21,
   "metadata": {
    "scrolled": true
   },
   "outputs": [
    {
     "name": "stdout",
     "output_type": "stream",
     "text": [
      "2048 nodes are visited\n",
      "141\n"
     ]
    },
    {
     "data": {
      "image/png": "[encoded data removed]",
      "text/plain": [
       "<Figure size 288x288 with 1 Axes>"
      ]
     },
     "metadata": {
      "needs_background": "light"
     },
     "output_type": "display_data"
    }
   ],
   "source": [
    "maze = maze3\n",
    "N = maze.shape[0]\n",
    "start_node = convert_to_listindex(0,0,N)\n",
    "end_node = convert_to_listindex(N-1,N-1,N)\n",
    "graph, cost = create_graph(maze)\n",
    "path = breadthFirstSearch(graph, start_node, end_node, cost)\n",
    "print(len(path))\n",
    "# display it on the world grid (shown in grey)\n",
    "display_result(maze, path)"
   ]
  },
  {
   "cell_type": "markdown",
   "metadata": {},
   "source": [
    "#  A* algorithm for Question （c）"
   ]
  },
  {
   "cell_type": "markdown",
   "metadata": {},
   "source": [
    "AS heuristic hi,j = 0 (where i and j are the i row and j column entry)"
   ]
  },
  {
   "cell_type": "markdown",
   "metadata": {},
   "source": [
    "Maze 0"
   ]
  },
  {
   "cell_type": "code",
   "execution_count": 29,
   "metadata": {},
   "outputs": [
    {
     "name": "stdout",
     "output_type": "stream",
     "text": [
      "17 nodes are visited\n",
      "9\n",
      "[24, 19, 14, 13, 8, 3, 2, 1, 0]\n"
     ]
    },
    {
     "data": {
      "image/png": "[encoded data removed]",
      "text/plain": [
       "<Figure size 288x288 with 1 Axes>"
      ]
     },
     "metadata": {
      "needs_background": "light"
     },
     "output_type": "display_data"
    }
   ],
   "source": [
    "N=5\n",
    "start_node = convert_to_listindex(0,0,N)\n",
    "end_node = convert_to_listindex(N-1,N-1,N)\n",
    "graph, cost = create_graph(world_map)\n",
    "path = AStar(graph, end_node, start_node, cost, N)\n",
    "print(len(path))\n",
    "print(path)\n",
    "# display it on the world grid (shown in grey)\n",
    "display_result(world_map, path)"
   ]
  },
  {
   "cell_type": "markdown",
   "metadata": {},
   "source": [
    "Maze 1"
   ]
  },
  {
   "cell_type": "code",
   "execution_count": 30,
   "metadata": {},
   "outputs": [
    {
     "name": "stdout",
     "output_type": "stream",
     "text": [
      "2037 nodes are visited\n",
      "99\n"
     ]
    },
    {
     "data": {
      "image/png": "[encoded data removed]",
      "text/plain": [
       "<Figure size 288x288 with 1 Axes>"
      ]
     },
     "metadata": {
      "needs_background": "light"
     },
     "output_type": "display_data"
    }
   ],
   "source": [
    "maze = maze1\n",
    "N = maze.shape[0]\n",
    "start_node = convert_to_listindex(0,0,N)\n",
    "end_node = convert_to_listindex(N-1,N-1,N)\n",
    "graph, cost = create_graph(maze)\n",
    "path = AStar(graph, start_node, end_node, cost, N)\n",
    "print(len(path))\n",
    "# display it on the world grid (shown in grey)\n",
    "display_result(maze, path)"
   ]
  },
  {
   "cell_type": "markdown",
   "metadata": {},
   "source": [
    "Maze 2"
   ]
  },
  {
   "cell_type": "code",
   "execution_count": 33,
   "metadata": {},
   "outputs": [
    {
     "name": "stdout",
     "output_type": "stream",
     "text": [
      "2173 nodes are visited\n",
      "131\n"
     ]
    },
    {
     "data": {
      "image/png": "[encoded data removed]",
      "text/plain": [
       "<Figure size 288x288 with 1 Axes>"
      ]
     },
     "metadata": {
      "needs_background": "light"
     },
     "output_type": "display_data"
    }
   ],
   "source": [
    "maze = maze2\n",
    "N = maze.shape[0]\n",
    "start_node = convert_to_listindex(0,0,N)\n",
    "end_node = convert_to_listindex(N-1,N-1,N)\n",
    "graph, cost = create_graph(maze)\n",
    "path = AStar(graph, start_node, end_node, cost, N)\n",
    "print(len(path))\n",
    "# display it on the world grid (shown in grey)\n",
    "display_result(maze, path)"
   ]
  },
  {
   "cell_type": "markdown",
   "metadata": {},
   "source": [
    "Maze 3"
   ]
  },
  {
   "cell_type": "code",
   "execution_count": 32,
   "metadata": {},
   "outputs": [
    {
     "name": "stdout",
     "output_type": "stream",
     "text": [
      "2049 nodes are visited\n",
      "141\n"
     ]
    },
    {
     "data": {
      "image/png": "[encoded data removed]",
      "text/plain": [
       "<Figure size 288x288 with 1 Axes>"
      ]
     },
     "metadata": {
      "needs_background": "light"
     },
     "output_type": "display_data"
    }
   ],
   "source": [
    "maze = maze3\n",
    "N = maze.shape[0]\n",
    "start_node = convert_to_listindex(0,0,N)\n",
    "end_node = convert_to_listindex(N-1,N-1,N)\n",
    "graph, cost = create_graph(maze)\n",
    "path = AStar(graph, start_node, end_node, cost, N)\n",
    "print(len(path))\n",
    "# display it on the world grid (shown in grey)\n",
    "display_result(maze, path)"
   ]
  },
  {
   "cell_type": "markdown",
   "metadata": {},
   "source": [
    "AS heuristic hi,j = |i−goali|+|j−goalj|where goali and goalj are the coordinates of the goal position "
   ]
  },
  {
   "cell_type": "markdown",
   "metadata": {},
   "source": [
    "Maze 0"
   ]
  },
  {
   "cell_type": "code",
   "execution_count": 35,
   "metadata": {},
   "outputs": [
    {
     "name": "stdout",
     "output_type": "stream",
     "text": [
      "11 nodes are visited\n",
      "9\n",
      "[24, 19, 14, 9, 8, 3, 2, 1, 0]\n"
     ]
    },
    {
     "data": {
      "image/png": "[encoded data removed]",
      "text/plain": [
       "<Figure size 288x288 with 1 Axes>"
      ]
     },
     "metadata": {
      "needs_background": "light"
     },
     "output_type": "display_data"
    }
   ],
   "source": [
    "N=5\n",
    "start_node = convert_to_listindex(0,0,N)\n",
    "end_node = convert_to_listindex(N-1,N-1,N)\n",
    "graph, cost = create_graph(world_map)\n",
    "path = AStar2(graph, end_node, start_node, cost, N)\n",
    "print(len(path))\n",
    "print(path)\n",
    "# display it on the world grid (shown in grey)\n",
    "display_result(world_map, path)"
   ]
  },
  {
   "cell_type": "markdown",
   "metadata": {},
   "source": [
    "Maze 1"
   ]
  },
  {
   "cell_type": "code",
   "execution_count": 36,
   "metadata": {},
   "outputs": [
    {
     "name": "stdout",
     "output_type": "stream",
     "text": [
      "1724 nodes are visited\n",
      "99\n"
     ]
    },
    {
     "data": {
      "image/png": "[encoded data removed]",
      "text/plain": [
       "<Figure size 288x288 with 1 Axes>"
      ]
     },
     "metadata": {
      "needs_background": "light"
     },
     "output_type": "display_data"
    }
   ],
   "source": [
    "maze = maze1\n",
    "N = maze.shape[0]\n",
    "start_node = convert_to_listindex(0,0,N)\n",
    "end_node = convert_to_listindex(N-1,N-1,N)\n",
    "graph, cost = create_graph(maze)\n",
    "path = AStar2(graph, start_node, end_node, cost, N)\n",
    "print(len(path))\n",
    "# display it on the world grid (shown in grey)\n",
    "display_result(maze, path)"
   ]
  },
  {
   "cell_type": "markdown",
   "metadata": {},
   "source": [
    "Maze 2"
   ]
  },
  {
   "cell_type": "code",
   "execution_count": 37,
   "metadata": {},
   "outputs": [
    {
     "name": "stdout",
     "output_type": "stream",
     "text": [
      "2286 nodes are visited\n",
      "131\n"
     ]
    },
    {
     "data": {
      "image/png": "[encoded data removed]",
      "text/plain": [
       "<Figure size 288x288 with 1 Axes>"
      ]
     },
     "metadata": {
      "needs_background": "light"
     },
     "output_type": "display_data"
    }
   ],
   "source": [
    "maze = maze2\n",
    "N = maze.shape[0]\n",
    "start_node = convert_to_listindex(0,0,N)\n",
    "end_node = convert_to_listindex(N-1,N-1,N)\n",
    "graph, cost = create_graph(maze)\n",
    "path = AStar2(graph, start_node, end_node, cost, N)\n",
    "print(len(path))\n",
    "# display it on the world grid (shown in grey)\n",
    "display_result(maze, path)"
   ]
  },
  {
   "cell_type": "markdown",
   "metadata": {},
   "source": [
    "Maze 3"
   ]
  },
  {
   "cell_type": "code",
   "execution_count": 38,
   "metadata": {},
   "outputs": [
    {
     "name": "stdout",
     "output_type": "stream",
     "text": [
      "2732 nodes are visited\n",
      "141\n"
     ]
    },
    {
     "data": {
      "image/png": "[encoded data removed]",
      "text/plain": [
       "<Figure size 288x288 with 1 Axes>"
      ]
     },
     "metadata": {
      "needs_background": "light"
     },
     "output_type": "display_data"
    }
   ],
   "source": [
    "maze = maze3\n",
    "N = maze.shape[0]\n",
    "start_node = convert_to_listindex(0,0,N)\n",
    "end_node = convert_to_listindex(N-1,N-1,N)\n",
    "graph, cost = create_graph(maze)\n",
    "path = AStar2(graph, start_node, end_node, cost, N)\n",
    "print(len(path))\n",
    "# display it on the world grid (shown in grey)\n",
    "display_result(maze, path)"
   ]
  },
  {
   "cell_type": "code",
   "execution_count": null,
   "metadata": {},
   "outputs": [],
   "source": []
  }
 ],
 "metadata": {
  "kernelspec": {
   "display_name": "Python 3",
   "language": "python",
   "name": "python3"
  },
  "language_info": {
   "codemirror_mode": {
    "name": "ipython",
    "version": 3
   },
   "file_extension": ".py",
   "mimetype": "text/x-python",
   "name": "python",
   "nbconvert_exporter": "python",
   "pygments_lexer": "ipython3",
   "version": "3.7.4"
  }
 },
 "nbformat": 4,
 "nbformat_minor": 2
}
